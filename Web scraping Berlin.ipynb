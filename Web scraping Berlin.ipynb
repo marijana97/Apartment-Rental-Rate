{
 "cells": [
  {
   "cell_type": "markdown",
   "id": "1d49ceeb",
   "metadata": {},
   "source": [
    "# Web Scraping - Berlin"
   ]
  },
  {
   "cell_type": "code",
   "execution_count": 1,
   "id": "a0647cb8",
   "metadata": {},
   "outputs": [],
   "source": [
    "from bs4 import BeautifulSoup\n",
    "import requests\n",
    "import pandas as pd\n",
    "import numpy as np\n",
    "import re\n",
    "import urllib.parse"
   ]
  },
  {
   "cell_type": "code",
   "execution_count": 2,
   "id": "dc241df5",
   "metadata": {},
   "outputs": [],
   "source": [
    "website = 'https://www.immobilo.de/mieten/wohnung/berlin'"
   ]
  },
  {
   "cell_type": "code",
   "execution_count": 3,
   "id": "cd71e7d4",
   "metadata": {},
   "outputs": [],
   "source": [
    "response = requests.get(website)"
   ]
  },
  {
   "cell_type": "code",
   "execution_count": 4,
   "id": "cb213e81",
   "metadata": {},
   "outputs": [
    {
     "data": {
      "text/plain": [
       "200"
      ]
     },
     "execution_count": 4,
     "metadata": {},
     "output_type": "execute_result"
    }
   ],
   "source": [
    "response.status_code"
   ]
  },
  {
   "cell_type": "code",
   "execution_count": 5,
   "id": "eb240af3",
   "metadata": {},
   "outputs": [],
   "source": [
    "soup = BeautifulSoup(response.content, 'html.parser')"
   ]
  },
  {
   "cell_type": "code",
   "execution_count": 7,
   "id": "89ed9d99",
   "metadata": {},
   "outputs": [],
   "source": [
    "results = soup.find_all('div', {'class': 'item__main-info clearfix'})"
   ]
  },
  {
   "cell_type": "code",
   "execution_count": 37,
   "id": "fe867a3c",
   "metadata": {},
   "outputs": [
    {
     "data": {
      "text/plain": [
       "'Möbliertes 1 Zimmer Studio im Herzen Berlins'"
      ]
     },
     "execution_count": 37,
     "metadata": {},
     "output_type": "execute_result"
    }
   ],
   "source": [
    "#Title\n",
    "results[0].find('a', {'class': 'js-item-title-link ci-search-result__link'}).get_text().strip()"
   ]
  },
  {
   "cell_type": "code",
   "execution_count": 14,
   "id": "b4ac2d88",
   "metadata": {},
   "outputs": [
    {
     "data": {
      "text/plain": [
       "'Lehrter Straße, 10557 Berlin'"
      ]
     },
     "execution_count": 14,
     "metadata": {},
     "output_type": "execute_result"
    }
   ],
   "source": [
    "#Location\n",
    "results[0].find('div', {'class': 'item__locality'}).get_text().strip()"
   ]
  },
  {
   "cell_type": "code",
   "execution_count": 16,
   "id": "e2bc2a42",
   "metadata": {},
   "outputs": [
    {
     "data": {
      "text/plain": [
       "'1 Zi.'"
      ]
     },
     "execution_count": 16,
     "metadata": {},
     "output_type": "execute_result"
    }
   ],
   "source": [
    "#Rooms\n",
    "results[0].find('div', {'class': 'item__spec item-spec-rooms'}).get_text()"
   ]
  },
  {
   "cell_type": "code",
   "execution_count": 20,
   "id": "b188921e",
   "metadata": {},
   "outputs": [
    {
     "data": {
      "text/plain": [
       "'22,35 m2'"
      ]
     },
     "execution_count": 20,
     "metadata": {},
     "output_type": "execute_result"
    }
   ],
   "source": [
    "#Area\n",
    "results[0].find('div', {'class': 'item__spec item-spec-area'}).get_text().strip().replace('\\n', '')"
   ]
  },
  {
   "cell_type": "code",
   "execution_count": 23,
   "id": "983ad10a",
   "metadata": {},
   "outputs": [
    {
     "data": {
      "text/plain": [
       "'1.532,00€'"
      ]
     },
     "execution_count": 23,
     "metadata": {},
     "output_type": "execute_result"
    }
   ],
   "source": [
    "#Price\n",
    "results[0].find('div', {'class': 'item__spec item-spec-price'}).get_text().replace('\\xa0', '')"
   ]
  },
  {
   "cell_type": "code",
   "execution_count": 26,
   "id": "2a12579d",
   "metadata": {},
   "outputs": [
    {
     "data": {
      "text/plain": [
       "'Warmmiete'"
      ]
     },
     "execution_count": 26,
     "metadata": {},
     "output_type": "execute_result"
    }
   ],
   "source": [
    "#Type of price\n",
    "results[0].find('div', {'class': 'small text-muted item-spec-price-type'}).get_text().strip()"
   ]
  },
  {
   "cell_type": "code",
   "execution_count": 45,
   "id": "7981d3c1",
   "metadata": {},
   "outputs": [
    {
     "data": {
      "text/plain": [
       "'Immobilientyp:    Wohnung, Wohngemeinschaft, Zimmer'"
      ]
     },
     "execution_count": 45,
     "metadata": {},
     "output_type": "execute_result"
    }
   ],
   "source": [
    "#Apartment type\n",
    "results[0].find(text=re.compile('Immobilientyp:')).strip().replace('\\n', '')"
   ]
  },
  {
   "cell_type": "code",
   "execution_count": 33,
   "id": "8f39370b",
   "metadata": {},
   "outputs": [],
   "source": [
    "#Relative link\n",
    "relative_url = results[0].find('a', {'class': 'js-item-title-link ci-search-result__link'}).get('href')"
   ]
  },
  {
   "cell_type": "code",
   "execution_count": 34,
   "id": "e69b89bc",
   "metadata": {},
   "outputs": [],
   "source": [
    "root_url = 'https://www.immobilo.de'"
   ]
  },
  {
   "cell_type": "code",
   "execution_count": 35,
   "id": "f206bfc9",
   "metadata": {},
   "outputs": [],
   "source": [
    "combine_url = root_url + relative_url"
   ]
  },
  {
   "cell_type": "code",
   "execution_count": 36,
   "id": "bdb48799",
   "metadata": {},
   "outputs": [
    {
     "data": {
      "text/plain": [
       "'https://www.immobilo.de/immobilien/moebliertes-1-zimmer-studio-im-herzen-berlins-DL4THT'"
      ]
     },
     "execution_count": 36,
     "metadata": {},
     "output_type": "execute_result"
    }
   ],
   "source": [
    "combine_url"
   ]
  },
  {
   "cell_type": "code",
   "execution_count": 53,
   "id": "1ca8ff2e",
   "metadata": {},
   "outputs": [],
   "source": [
    "# Iteration through multiple pages\n",
    "\n",
    "title_list = []\n",
    "location_list = []\n",
    "room_list = []\n",
    "area_list = []\n",
    "price_list = []\n",
    "price_type_list = []\n",
    "apartment_type_list = []\n",
    "relative_link_list = []\n",
    "\n",
    "for i in range(1, 401):\n",
    "    \n",
    "    website = 'https://www.immobilo.de/mieten/wohnung/berlin?page=' + str(i)\n",
    "    \n",
    "    response = requests.get(website)\n",
    "    \n",
    "    soup = BeautifulSoup(response.content, 'html.parser')\n",
    "    \n",
    "    results = soup.find_all('div', {'class': 'item__main-info clearfix'})\n",
    "\n",
    "    \n",
    "    #Loop through results\n",
    "    for result in results:\n",
    "\n",
    "        #Title\n",
    "        try:\n",
    "            title_list.append(result.find('a', {'class': 'js-item-title-link ci-search-result__link'}).get_text().strip())\n",
    "        except:\n",
    "            title_list.append('')\n",
    "\n",
    "        #Location\n",
    "        try:\n",
    "            location_list.append(result.find('div', {'class': 'item__locality'}).get_text().strip())\n",
    "        except:\n",
    "            location_list.append('')\n",
    "\n",
    "        #Rooms\n",
    "        try:\n",
    "            room_list.append(result.find('div', {'class': 'item__spec item-spec-rooms'}).get_text())\n",
    "        except:\n",
    "            room_list.append('')\n",
    "\n",
    "        #Area\n",
    "        try:\n",
    "            area_list.append(result.find('div', {'class': 'item__spec item-spec-area'}).get_text().strip().replace('\\n', ''))\n",
    "        except:\n",
    "            area_list.append('')\n",
    "\n",
    "         #Price\n",
    "        try:\n",
    "            price_list.append(result.find('div', {'class': 'item__spec item-spec-price'}).get_text().replace('\\xa0', ''))\n",
    "        except:\n",
    "            price_list.append('')\n",
    "\n",
    "        #Type of price\n",
    "        try:\n",
    "            price_type_list.append(result.find('div', {'class': 'small text-muted item-spec-price-type'}).get_text().strip())\n",
    "        except:\n",
    "            price_type_list.append('')\n",
    "\n",
    "        #Type of apartment\n",
    "        try:\n",
    "            apartment_type_list.append(result.find(text=re.compile('Immobilientyp:')).strip().replace('\\n', ''))\n",
    "        except:\n",
    "            apartment_type_list.append('')\n",
    "\n",
    "        #Relative link\n",
    "        try:\n",
    "            relative_link_list.append(result.find('a', {'class': 'js-item-title-link ci-search-result__link'}).get('href'))\n",
    "        except:\n",
    "            relative_link_list.append('')"
   ]
  },
  {
   "cell_type": "code",
   "execution_count": 54,
   "id": "6fc7bdd9",
   "metadata": {},
   "outputs": [],
   "source": [
    "url_list = []\n",
    "\n",
    "for link in relative_link_list:\n",
    "    url_list.append(urllib.parse.urljoin(root_url, link))"
   ]
  },
  {
   "cell_type": "code",
   "execution_count": 55,
   "id": "7c2fd93b",
   "metadata": {},
   "outputs": [],
   "source": [
    "df = pd.DataFrame({'Title': title_list, 'Location': location_list, 'Rooms': room_list, 'Area': area_list, \n",
    "                  'Price': price_list, 'Price type': price_type_list, 'Apartment type': apartment_type_list, 'Link': url_list})"
   ]
  },
  {
   "cell_type": "code",
   "execution_count": 57,
   "id": "ab8499ef",
   "metadata": {},
   "outputs": [],
   "source": [
    "df.to_excel('Apartment_Berlin_Nov.xlsx')"
   ]
  }
 ],
 "metadata": {
  "kernelspec": {
   "display_name": "Python 3 (ipykernel)",
   "language": "python",
   "name": "python3"
  },
  "language_info": {
   "codemirror_mode": {
    "name": "ipython",
    "version": 3
   },
   "file_extension": ".py",
   "mimetype": "text/x-python",
   "name": "python",
   "nbconvert_exporter": "python",
   "pygments_lexer": "ipython3",
   "version": "3.9.12"
  }
 },
 "nbformat": 4,
 "nbformat_minor": 5
}
