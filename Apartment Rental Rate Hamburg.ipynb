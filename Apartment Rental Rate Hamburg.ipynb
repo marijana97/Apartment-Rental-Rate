{
 "cells": [
  {
   "cell_type": "markdown",
   "id": "943dd279",
   "metadata": {},
   "source": [
    "# Apartment Rental Rate - Hamburg"
   ]
  },
  {
   "cell_type": "markdown",
   "id": "0188f931",
   "metadata": {},
   "source": [
    "This project analyzes rent prices in **Hamburg, Germany**. Data was collected in March, 2023 from [Immobilo](https://www.immobilo.de/mieten/wohnung/hamburg) using Selenium and BeautifulSoup. The average price and area of apartments will be analyzed. At the end, data from Hamburg is compared with Berlin in the notebook *Analysis Berlin*.\n",
    "\n",
    "*Tools used in this project:*\n",
    "\n",
    "- Python\n",
    "- Numpy and Pandas for data cleaning\n",
    "- Matplotlib and Seaborn for data visualization\n"
   ]
  },
  {
   "cell_type": "markdown",
   "id": "261ee9ce",
   "metadata": {},
   "source": [
    "# Imports and Loading Data"
   ]
  },
  {
   "cell_type": "code",
   "execution_count": 1,
   "id": "c140a42f",
   "metadata": {},
   "outputs": [],
   "source": [
    "import pandas as pd\n",
    "import numpy as np\n",
    "import matplotlib.pyplot as plt\n",
    "%matplotlib inline\n",
    "import seaborn as sns\n",
    "\n",
    "data = pd.read_excel('Apartment_Hamburg.xlsx')"
   ]
  },
  {
   "cell_type": "code",
   "execution_count": 2,
   "id": "5408b06c",
   "metadata": {},
   "outputs": [],
   "source": [
    "# data.head()\n",
    "# data.info()\n",
    "# data.memory_usage(deep=True).sum()"
   ]
  },
  {
   "cell_type": "markdown",
   "id": "0479645c",
   "metadata": {},
   "source": [
    "# Data Preparation"
   ]
  },
  {
   "cell_type": "markdown",
   "id": "449aa25f",
   "metadata": {},
   "source": [
    "In this part all data related to **apartment sharing/renting garage/ renting for students or senior citizens** will be removed because that isn't part of analysis. After that, we will clean up the columns *Room, Area* and *Price* by removing unnecessary words and leaving only digits for converting the columns into **integers/floats** for further calculation. Since there are only a few missing values in the columns *Rooms* and *Area*, we will drop them, but for the *Price* column we will replace the *'Preis auf Anfrage' (Price on request)* with **missing value**. \n",
    "\n",
    "Next, we will filter the data so that only values up to a maximum of **4 rooms** remain in the *Room* column.\n",
    "\n",
    "For some apartments the cost of heating and additional costs (*Warmmiete*) are included in the rent, while in some prices it isn't (*Kaltmiete*). We will **adjust all prices** to the price with additional costs included. \n",
    "A *Nebenkosten* column was assigned in which the additional cost for heating was calculated. The area of an apartment was multiplied by **2.71** Euros. Information on the amount of additional costs for Hamburg can be found at this link: [Miet-Check](https://www.miet-check.de/mietnebenkosten/hamburg/)"
   ]
  },
  {
   "cell_type": "code",
   "execution_count": 3,
   "id": "933698b4",
   "metadata": {},
   "outputs": [],
   "source": [
    "def transformData(data):\n",
    "    columns=['Title', 'Location', 'Rooms', 'Area', 'Price', 'Price_type',\n",
    "       'Apartment_type']\n",
    "    return (data\n",
    "      [columns]\n",
    "     .query('~Title.str.contains(\"garage|Studenten|WG|tausch|Senioren\", case=False) & ~Apartment_type.str.contains(\"Wohngemeinschaft|Parken|Grundstück\")')\n",
    "     .dropna(subset=['Rooms', 'Area'], axis=0, thresh=2)\n",
    "     .assign(Price = data.Price.replace('Preis auf Anfrage', np.nan)\n",
    "             .astype(float),\n",
    "             Rooms = data.Rooms.apply(lambda x: str(x).replace(',', '.'))\n",
    "             .astype(float).apply(np.floor),\n",
    "             Area = data.Area.apply(lambda x: str(x).replace(',', '.'))\n",
    "             .astype(float).round(),\n",
    "             Price_type = data.Price_type.fillna('Warmmiete') #assuming that missing values are Warmmiete\n",
    "             )\n",
    "    )\n",
    "hamburg_df = transformData(data)"
   ]
  },
  {
   "cell_type": "code",
   "execution_count": 4,
   "id": "aae70197",
   "metadata": {},
   "outputs": [],
   "source": [
    "#hamburg_df.Apartment_type.value_counts()\n",
    "\n",
    "hamburg_df.loc[hamburg_df.Apartment_type.str.contains('Haus'), 'Apartment_type'] = 'Haus'\n",
    "hamburg_df.loc[hamburg_df.Apartment_type.str.contains('Wohnung'), 'Apartment_type'] = 'Wohnung'"
   ]
  },
  {
   "cell_type": "code",
   "execution_count": 5,
   "id": "35d488a5",
   "metadata": {},
   "outputs": [],
   "source": [
    "hamburg_df = (hamburg_df\n",
    " .query('Rooms <= 4')\n",
    " .astype({'Rooms': 'int8', 'Area': 'int16', 'Price_type': 'category', 'Apartment_type': 'category'})\n",
    " .assign(Nebenkosten = (hamburg_df.Area*2.71).where(hamburg_df.Price_type == 'Kaltmiete, zzgl. NK')) #including the addiotional cost\n",
    "\n",
    ")"
   ]
  },
  {
   "cell_type": "code",
   "execution_count": 6,
   "id": "990a53c6",
   "metadata": {},
   "outputs": [],
   "source": [
    "def getPrice(hamburg_df):\n",
    "    return (hamburg_df\n",
    " .assign(Price = hamburg_df[['Price', 'Nebenkosten']].sum(axis=1, min_count=1).round())\n",
    " .drop(['Price_type', 'Nebenkosten'], axis=1)\n",
    " .reset_index(drop=True)\n",
    ")\n",
    "\n",
    "hamburg = getPrice(hamburg_df)"
   ]
  },
  {
   "cell_type": "code",
   "execution_count": 7,
   "id": "e17ea1c2",
   "metadata": {},
   "outputs": [],
   "source": [
    "# hamburg.info()\n",
    "# hamburg.memory_usage(deep=True).sum()"
   ]
  },
  {
   "cell_type": "markdown",
   "id": "0e7bfef8",
   "metadata": {},
   "source": [
    "# Removing Outliers"
   ]
  },
  {
   "cell_type": "markdown",
   "id": "916ffd41",
   "metadata": {},
   "source": [
    "Outliers represent the **extreme values** of dataset. The describe method in Python will be used to define an **upper limit and lower limit**. All rows that belong to values below 25% of the data and rows that belong above 75% will be considered  as outliers and will be removed. For example, 25% for price (1 room) is *718.50€*, which means that any value below *718.50€* will be removed."
   ]
  },
  {
   "cell_type": "markdown",
   "id": "68f6399d",
   "metadata": {},
   "source": [
    "### Outliers Price"
   ]
  },
  {
   "cell_type": "code",
   "execution_count": 8,
   "id": "2720687d",
   "metadata": {},
   "outputs": [
    {
     "data": {
      "text/html": [
       "<div>\n",
       "<style scoped>\n",
       "    .dataframe tbody tr th:only-of-type {\n",
       "        vertical-align: middle;\n",
       "    }\n",
       "\n",
       "    .dataframe tbody tr th {\n",
       "        vertical-align: top;\n",
       "    }\n",
       "\n",
       "    .dataframe thead tr th {\n",
       "        text-align: left;\n",
       "    }\n",
       "\n",
       "    .dataframe thead tr:last-of-type th {\n",
       "        text-align: right;\n",
       "    }\n",
       "</style>\n",
       "<table border=\"1\" class=\"dataframe\">\n",
       "  <thead>\n",
       "    <tr>\n",
       "      <th></th>\n",
       "      <th colspan=\"8\" halign=\"left\">Area</th>\n",
       "      <th colspan=\"8\" halign=\"left\">Price</th>\n",
       "    </tr>\n",
       "    <tr>\n",
       "      <th></th>\n",
       "      <th>count</th>\n",
       "      <th>mean</th>\n",
       "      <th>std</th>\n",
       "      <th>min</th>\n",
       "      <th>25%</th>\n",
       "      <th>50%</th>\n",
       "      <th>75%</th>\n",
       "      <th>max</th>\n",
       "      <th>count</th>\n",
       "      <th>mean</th>\n",
       "      <th>std</th>\n",
       "      <th>min</th>\n",
       "      <th>25%</th>\n",
       "      <th>50%</th>\n",
       "      <th>75%</th>\n",
       "      <th>max</th>\n",
       "    </tr>\n",
       "    <tr>\n",
       "      <th>Rooms</th>\n",
       "      <th></th>\n",
       "      <th></th>\n",
       "      <th></th>\n",
       "      <th></th>\n",
       "      <th></th>\n",
       "      <th></th>\n",
       "      <th></th>\n",
       "      <th></th>\n",
       "      <th></th>\n",
       "      <th></th>\n",
       "      <th></th>\n",
       "      <th></th>\n",
       "      <th></th>\n",
       "      <th></th>\n",
       "      <th></th>\n",
       "      <th></th>\n",
       "    </tr>\n",
       "  </thead>\n",
       "  <tbody>\n",
       "    <tr>\n",
       "      <th>1</th>\n",
       "      <td>469.0</td>\n",
       "      <td>36.929638</td>\n",
       "      <td>22.932951</td>\n",
       "      <td>1.0</td>\n",
       "      <td>25.00</td>\n",
       "      <td>35.0</td>\n",
       "      <td>43.0</td>\n",
       "      <td>150.0</td>\n",
       "      <td>467.0</td>\n",
       "      <td>1320.680942</td>\n",
       "      <td>754.802986</td>\n",
       "      <td>57.0</td>\n",
       "      <td>718.50</td>\n",
       "      <td>1181.0</td>\n",
       "      <td>1690.00</td>\n",
       "      <td>4992.0</td>\n",
       "    </tr>\n",
       "    <tr>\n",
       "      <th>2</th>\n",
       "      <td>929.0</td>\n",
       "      <td>58.505920</td>\n",
       "      <td>21.371312</td>\n",
       "      <td>1.0</td>\n",
       "      <td>49.00</td>\n",
       "      <td>59.0</td>\n",
       "      <td>68.0</td>\n",
       "      <td>207.0</td>\n",
       "      <td>927.0</td>\n",
       "      <td>1504.830636</td>\n",
       "      <td>741.723366</td>\n",
       "      <td>171.0</td>\n",
       "      <td>1001.50</td>\n",
       "      <td>1421.0</td>\n",
       "      <td>1773.00</td>\n",
       "      <td>9360.0</td>\n",
       "    </tr>\n",
       "    <tr>\n",
       "      <th>3</th>\n",
       "      <td>664.0</td>\n",
       "      <td>80.628012</td>\n",
       "      <td>32.806603</td>\n",
       "      <td>1.0</td>\n",
       "      <td>69.00</td>\n",
       "      <td>80.0</td>\n",
       "      <td>94.0</td>\n",
       "      <td>346.0</td>\n",
       "      <td>664.0</td>\n",
       "      <td>2608.549699</td>\n",
       "      <td>17429.355436</td>\n",
       "      <td>604.0</td>\n",
       "      <td>1387.25</td>\n",
       "      <td>1737.5</td>\n",
       "      <td>2264.75</td>\n",
       "      <td>450217.0</td>\n",
       "    </tr>\n",
       "    <tr>\n",
       "      <th>4</th>\n",
       "      <td>228.0</td>\n",
       "      <td>102.127193</td>\n",
       "      <td>42.580699</td>\n",
       "      <td>1.0</td>\n",
       "      <td>89.75</td>\n",
       "      <td>105.5</td>\n",
       "      <td>125.0</td>\n",
       "      <td>220.0</td>\n",
       "      <td>228.0</td>\n",
       "      <td>2423.342105</td>\n",
       "      <td>905.427383</td>\n",
       "      <td>757.0</td>\n",
       "      <td>1900.00</td>\n",
       "      <td>2271.5</td>\n",
       "      <td>2756.25</td>\n",
       "      <td>8596.0</td>\n",
       "    </tr>\n",
       "  </tbody>\n",
       "</table>\n",
       "</div>"
      ],
      "text/plain": [
       "        Area                                                          Price  \\\n",
       "       count        mean        std  min    25%    50%    75%    max  count   \n",
       "Rooms                                                                         \n",
       "1      469.0   36.929638  22.932951  1.0  25.00   35.0   43.0  150.0  467.0   \n",
       "2      929.0   58.505920  21.371312  1.0  49.00   59.0   68.0  207.0  927.0   \n",
       "3      664.0   80.628012  32.806603  1.0  69.00   80.0   94.0  346.0  664.0   \n",
       "4      228.0  102.127193  42.580699  1.0  89.75  105.5  125.0  220.0  228.0   \n",
       "\n",
       "                                                                             \n",
       "              mean           std    min      25%     50%      75%       max  \n",
       "Rooms                                                                        \n",
       "1      1320.680942    754.802986   57.0   718.50  1181.0  1690.00    4992.0  \n",
       "2      1504.830636    741.723366  171.0  1001.50  1421.0  1773.00    9360.0  \n",
       "3      2608.549699  17429.355436  604.0  1387.25  1737.5  2264.75  450217.0  \n",
       "4      2423.342105    905.427383  757.0  1900.00  2271.5  2756.25    8596.0  "
      ]
     },
     "execution_count": 8,
     "metadata": {},
     "output_type": "execute_result"
    }
   ],
   "source": [
    "hamburg.groupby('Rooms').describe()"
   ]
  },
  {
   "cell_type": "code",
   "execution_count": 9,
   "id": "290d49f8",
   "metadata": {},
   "outputs": [],
   "source": [
    "room1 = hamburg[hamburg.Rooms == 1]\n",
    "room2 = hamburg[hamburg.Rooms == 2]\n",
    "room3 = hamburg[hamburg.Rooms == 3]\n",
    "room4 = hamburg[hamburg.Rooms == 4]\n",
    "\n",
    "room1_price = room1.Price.between(718.50, 1690.00)\n",
    "room2_price = room2.Price.between(1001.50, 1773.00)\n",
    "room3_price = room3.Price.between(1387.25, 2264.75)\n",
    "room4_price = room4.Price.between(1900.00, 2756.25)\n",
    "\n",
    "price = [room1_price, room2_price, room3_price, room4_price]\n",
    "price_series = pd.concat(price)\n",
    "\n",
    "hamburg['Outliers_price'] = price_series"
   ]
  },
  {
   "cell_type": "markdown",
   "id": "abcb20fa",
   "metadata": {},
   "source": [
    "### Outliers Area"
   ]
  },
  {
   "cell_type": "code",
   "execution_count": 10,
   "id": "b54a23e5",
   "metadata": {},
   "outputs": [],
   "source": [
    "room1_area = room1.Area.between(25.0, 43.0)\n",
    "room2_area = room2.Area.between(49.0, 68.0)\n",
    "room3_area = room3.Area.between(69.00, 94.0)\n",
    "room4_area = room4.Area.between(89.75, 125.0)\n",
    "\n",
    "area = [room1_area, room2_area, room3_area, room4_area]\n",
    "area_series = pd.concat(area)\n",
    "\n",
    "hamburg['Outliers_area'] = area_series"
   ]
  },
  {
   "cell_type": "code",
   "execution_count": 11,
   "id": "1f5e747a",
   "metadata": {},
   "outputs": [],
   "source": [
    "hamburg = (hamburg\n",
    " .query('Outliers_price == True & Outliers_area == True', engine='python')\n",
    " .drop(['Outliers_price', 'Outliers_area'], axis=1)\n",
    " .assign(Price = hamburg.Price.fillna(hamburg.groupby('Rooms')['Price']\n",
    "                                      .transform('mean')\n",
    "                                      .round()))\n",
    ")"
   ]
  },
  {
   "cell_type": "code",
   "execution_count": 12,
   "id": "356f4cc2",
   "metadata": {},
   "outputs": [
    {
     "data": {
      "image/png": "[encoded data removed]",
      "text/plain": [
       "<Figure size 432x288 with 1 Axes>"
      ]
     },
     "metadata": {
      "needs_background": "light"
     },
     "output_type": "display_data"
    }
   ],
   "source": [
    "plot_rooms1 = hamburg[hamburg.Rooms == 1]\n",
    "plot_rooms2 = hamburg[hamburg.Rooms == 2]\n",
    "plot_rooms3 = hamburg[hamburg.Rooms == 3]\n",
    "plot_rooms4 = hamburg[hamburg.Rooms == 4]\n",
    "\n",
    "plt.boxplot([plot_rooms1['Price'], plot_rooms2['Price'], plot_rooms3['Price'], plot_rooms4['Price']]);"
   ]
  },
  {
   "cell_type": "code",
   "execution_count": 13,
   "id": "0e70e882",
   "metadata": {},
   "outputs": [
    {
     "data": {
      "image/png": "[encoded data removed]",
      "text/plain": [
       "<Figure size 432x288 with 1 Axes>"
      ]
     },
     "metadata": {
      "needs_background": "light"
     },
     "output_type": "display_data"
    }
   ],
   "source": [
    "plt.boxplot([plot_rooms1['Area'], plot_rooms2['Area'], plot_rooms3['Area'], plot_rooms4['Area']]);"
   ]
  },
  {
   "cell_type": "code",
   "execution_count": 14,
   "id": "8fa76aa5",
   "metadata": {},
   "outputs": [
    {
     "data": {
      "text/html": [
       "<div>\n",
       "<style scoped>\n",
       "    .dataframe tbody tr th:only-of-type {\n",
       "        vertical-align: middle;\n",
       "    }\n",
       "\n",
       "    .dataframe tbody tr th {\n",
       "        vertical-align: top;\n",
       "    }\n",
       "\n",
       "    .dataframe thead tr th {\n",
       "        text-align: left;\n",
       "    }\n",
       "\n",
       "    .dataframe thead tr:last-of-type th {\n",
       "        text-align: right;\n",
       "    }\n",
       "</style>\n",
       "<table border=\"1\" class=\"dataframe\">\n",
       "  <thead>\n",
       "    <tr>\n",
       "      <th></th>\n",
       "      <th colspan=\"8\" halign=\"left\">Area</th>\n",
       "      <th colspan=\"8\" halign=\"left\">Price</th>\n",
       "    </tr>\n",
       "    <tr>\n",
       "      <th></th>\n",
       "      <th>count</th>\n",
       "      <th>mean</th>\n",
       "      <th>std</th>\n",
       "      <th>min</th>\n",
       "      <th>25%</th>\n",
       "      <th>50%</th>\n",
       "      <th>75%</th>\n",
       "      <th>max</th>\n",
       "      <th>count</th>\n",
       "      <th>mean</th>\n",
       "      <th>std</th>\n",
       "      <th>min</th>\n",
       "      <th>25%</th>\n",
       "      <th>50%</th>\n",
       "      <th>75%</th>\n",
       "      <th>max</th>\n",
       "    </tr>\n",
       "    <tr>\n",
       "      <th>Rooms</th>\n",
       "      <th></th>\n",
       "      <th></th>\n",
       "      <th></th>\n",
       "      <th></th>\n",
       "      <th></th>\n",
       "      <th></th>\n",
       "      <th></th>\n",
       "      <th></th>\n",
       "      <th></th>\n",
       "      <th></th>\n",
       "      <th></th>\n",
       "      <th></th>\n",
       "      <th></th>\n",
       "      <th></th>\n",
       "      <th></th>\n",
       "      <th></th>\n",
       "    </tr>\n",
       "  </thead>\n",
       "  <tbody>\n",
       "    <tr>\n",
       "      <th>1</th>\n",
       "      <td>120.0</td>\n",
       "      <td>33.925000</td>\n",
       "      <td>5.345480</td>\n",
       "      <td>25.0</td>\n",
       "      <td>30.0</td>\n",
       "      <td>34.0</td>\n",
       "      <td>38.25</td>\n",
       "      <td>43.0</td>\n",
       "      <td>120.0</td>\n",
       "      <td>1171.891667</td>\n",
       "      <td>289.506267</td>\n",
       "      <td>723.0</td>\n",
       "      <td>920.25</td>\n",
       "      <td>1173.5</td>\n",
       "      <td>1386.0</td>\n",
       "      <td>1690.0</td>\n",
       "    </tr>\n",
       "    <tr>\n",
       "      <th>2</th>\n",
       "      <td>236.0</td>\n",
       "      <td>58.775424</td>\n",
       "      <td>5.910358</td>\n",
       "      <td>49.0</td>\n",
       "      <td>54.0</td>\n",
       "      <td>60.0</td>\n",
       "      <td>64.00</td>\n",
       "      <td>68.0</td>\n",
       "      <td>236.0</td>\n",
       "      <td>1387.025424</td>\n",
       "      <td>224.622064</td>\n",
       "      <td>1003.0</td>\n",
       "      <td>1166.50</td>\n",
       "      <td>1421.0</td>\n",
       "      <td>1588.5</td>\n",
       "      <td>1768.0</td>\n",
       "    </tr>\n",
       "    <tr>\n",
       "      <th>3</th>\n",
       "      <td>173.0</td>\n",
       "      <td>80.982659</td>\n",
       "      <td>7.493000</td>\n",
       "      <td>69.0</td>\n",
       "      <td>75.0</td>\n",
       "      <td>81.0</td>\n",
       "      <td>87.00</td>\n",
       "      <td>94.0</td>\n",
       "      <td>173.0</td>\n",
       "      <td>1741.040462</td>\n",
       "      <td>242.613851</td>\n",
       "      <td>1388.0</td>\n",
       "      <td>1541.00</td>\n",
       "      <td>1700.0</td>\n",
       "      <td>1942.0</td>\n",
       "      <td>2250.0</td>\n",
       "    </tr>\n",
       "    <tr>\n",
       "      <th>4</th>\n",
       "      <td>65.0</td>\n",
       "      <td>108.384615</td>\n",
       "      <td>10.071141</td>\n",
       "      <td>90.0</td>\n",
       "      <td>100.0</td>\n",
       "      <td>110.0</td>\n",
       "      <td>115.00</td>\n",
       "      <td>125.0</td>\n",
       "      <td>65.0</td>\n",
       "      <td>2263.492308</td>\n",
       "      <td>247.717337</td>\n",
       "      <td>1900.0</td>\n",
       "      <td>2018.00</td>\n",
       "      <td>2250.0</td>\n",
       "      <td>2400.0</td>\n",
       "      <td>2750.0</td>\n",
       "    </tr>\n",
       "  </tbody>\n",
       "</table>\n",
       "</div>"
      ],
      "text/plain": [
       "        Area                                                            Price  \\\n",
       "       count        mean        std   min    25%    50%     75%    max  count   \n",
       "Rooms                                                                           \n",
       "1      120.0   33.925000   5.345480  25.0   30.0   34.0   38.25   43.0  120.0   \n",
       "2      236.0   58.775424   5.910358  49.0   54.0   60.0   64.00   68.0  236.0   \n",
       "3      173.0   80.982659   7.493000  69.0   75.0   81.0   87.00   94.0  173.0   \n",
       "4       65.0  108.384615  10.071141  90.0  100.0  110.0  115.00  125.0   65.0   \n",
       "\n",
       "                                                                         \n",
       "              mean         std     min      25%     50%     75%     max  \n",
       "Rooms                                                                    \n",
       "1      1171.891667  289.506267   723.0   920.25  1173.5  1386.0  1690.0  \n",
       "2      1387.025424  224.622064  1003.0  1166.50  1421.0  1588.5  1768.0  \n",
       "3      1741.040462  242.613851  1388.0  1541.00  1700.0  1942.0  2250.0  \n",
       "4      2263.492308  247.717337  1900.0  2018.00  2250.0  2400.0  2750.0  "
      ]
     },
     "execution_count": 14,
     "metadata": {},
     "output_type": "execute_result"
    }
   ],
   "source": [
    "hamburg.groupby('Rooms').describe()"
   ]
  },
  {
   "cell_type": "code",
   "execution_count": 16,
   "id": "ff7b1299",
   "metadata": {},
   "outputs": [
    {
     "data": {
      "image/png": "[encoded data removed]",
      "text/plain": [
       "<Figure size 432x288 with 1 Axes>"
      ]
     },
     "metadata": {
      "needs_background": "light"
     },
     "output_type": "display_data"
    }
   ],
   "source": [
    "hamburg.groupby('Rooms')['Price'].mean().plot(kind='bar')\n",
    "plt.title('Average price per room')\n",
    "plt.xticks(rotation=0);"
   ]
  },
  {
   "cell_type": "code",
   "execution_count": 17,
   "id": "3f2d6a81",
   "metadata": {},
   "outputs": [
    {
     "data": {
      "image/png": "[encoded data removed]",
      "text/plain": [
       "<Figure size 432x288 with 1 Axes>"
      ]
     },
     "metadata": {
      "needs_background": "light"
     },
     "output_type": "display_data"
    }
   ],
   "source": [
    "hamburg.groupby('Rooms')['Area'].mean().plot(kind='bar')\n",
    "plt.title('Average area per room')\n",
    "plt.xticks(rotation=0);"
   ]
  },
  {
   "cell_type": "code",
   "execution_count": 15,
   "id": "9e5782d8",
   "metadata": {},
   "outputs": [],
   "source": [
    "#hamburg.to_excel('HAMBURG.xlsx')"
   ]
  }
 ],
 "metadata": {
  "kernelspec": {
   "display_name": "Python 3 (ipykernel)",
   "language": "python",
   "name": "python3"
  },
  "language_info": {
   "codemirror_mode": {
    "name": "ipython",
    "version": 3
   },
   "file_extension": ".py",
   "mimetype": "text/x-python",
   "name": "python",
   "nbconvert_exporter": "python",
   "pygments_lexer": "ipython3",
   "version": "3.9.12"
  }
 },
 "nbformat": 4,
 "nbformat_minor": 5
}
