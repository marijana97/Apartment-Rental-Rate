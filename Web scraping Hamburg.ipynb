{
 "cells": [
  {
   "cell_type": "markdown",
   "id": "2631a7ab",
   "metadata": {},
   "source": [
    "# Web Scraping - Hamburg"
   ]
  },
  {
   "cell_type": "code",
   "execution_count": 1,
   "id": "67bb10da",
   "metadata": {},
   "outputs": [],
   "source": [
    "from bs4 import BeautifulSoup\n",
    "import requests\n",
    "import pandas as pd\n",
    "import numpy as np\n",
    "import re\n",
    "import urllib.parse"
   ]
  },
  {
   "cell_type": "code",
   "execution_count": 2,
   "id": "992bda07",
   "metadata": {},
   "outputs": [],
   "source": [
    "website = 'https://www.immobilo.de/mieten/hamburg'"
   ]
  },
  {
   "cell_type": "code",
   "execution_count": 3,
   "id": "08416f45",
   "metadata": {},
   "outputs": [
    {
     "data": {
      "text/plain": [
       "200"
      ]
     },
     "execution_count": 3,
     "metadata": {},
     "output_type": "execute_result"
    }
   ],
   "source": [
    "response = requests.get(website)\n",
    "response.status_code"
   ]
  },
  {
   "cell_type": "code",
   "execution_count": 4,
   "id": "ff226124",
   "metadata": {},
   "outputs": [],
   "source": [
    "soup = BeautifulSoup(response.content, 'html.parser')\n",
    "results = soup.find_all('div', {'class': 'item__main-info clearfix'})"
   ]
  },
  {
   "cell_type": "code",
   "execution_count": 5,
   "id": "f3d355ea",
   "metadata": {},
   "outputs": [
    {
     "data": {
      "text/plain": [
       "'Apartment in Hamburg, Lindleystraße'"
      ]
     },
     "execution_count": 5,
     "metadata": {},
     "output_type": "execute_result"
    }
   ],
   "source": [
    "#Title\n",
    "results[0].find('a', {'class': 'js-item-title-link ci-search-result__link'}).get_text().strip()"
   ]
  },
  {
   "cell_type": "code",
   "execution_count": 6,
   "id": "ba295738",
   "metadata": {},
   "outputs": [
    {
     "data": {
      "text/plain": [
       "'20539 Hamburg'"
      ]
     },
     "execution_count": 6,
     "metadata": {},
     "output_type": "execute_result"
    }
   ],
   "source": [
    "#Location\n",
    "results[0].find('div', {'class': 'item__locality'}).get_text().strip()"
   ]
  },
  {
   "cell_type": "code",
   "execution_count": 7,
   "id": "3c2515f2",
   "metadata": {},
   "outputs": [
    {
     "data": {
      "text/plain": [
       "'1'"
      ]
     },
     "execution_count": 7,
     "metadata": {},
     "output_type": "execute_result"
    }
   ],
   "source": [
    "#Rooms\n",
    "results[0].find('div', {'class': 'item__spec item-spec-rooms'}).get_text().rstrip(' Zi.')"
   ]
  },
  {
   "cell_type": "code",
   "execution_count": 8,
   "id": "5e5eaa6d",
   "metadata": {},
   "outputs": [
    {
     "data": {
      "text/plain": [
       "'84'"
      ]
     },
     "execution_count": 8,
     "metadata": {},
     "output_type": "execute_result"
    }
   ],
   "source": [
    "#Area\n",
    "results[0].find('div', {'class': 'item__spec item-spec-area'}).get_text().strip().replace('\\n', '').rstrip(' m2')"
   ]
  },
  {
   "cell_type": "code",
   "execution_count": 9,
   "id": "1a59afb9",
   "metadata": {},
   "outputs": [
    {
     "data": {
      "text/plain": [
       "'2900.00'"
      ]
     },
     "execution_count": 9,
     "metadata": {},
     "output_type": "execute_result"
    }
   ],
   "source": [
    "#Price\n",
    "results[0].find('div', {'class': 'item__spec item-spec-price'}).get_text().replace('\\xa0', '').rstrip(' €').replace('.', '').replace(',', '.')"
   ]
  },
  {
   "cell_type": "code",
   "execution_count": 10,
   "id": "7e8128ff",
   "metadata": {},
   "outputs": [
    {
     "data": {
      "text/plain": [
       "'Kaltmiete, zzgl. NK'"
      ]
     },
     "execution_count": 10,
     "metadata": {},
     "output_type": "execute_result"
    }
   ],
   "source": [
    "#Type of price\n",
    "results[0].find('div', {'class': 'small text-muted item-spec-price-type'}).get_text().strip()"
   ]
  },
  {
   "cell_type": "code",
   "execution_count": 11,
   "id": "ff5d8e8c",
   "metadata": {},
   "outputs": [
    {
     "data": {
      "text/plain": [
       "'Sonstiges, Sonstiges Wohnen'"
      ]
     },
     "execution_count": 11,
     "metadata": {},
     "output_type": "execute_result"
    }
   ],
   "source": [
    "#Apartment type\n",
    "results[0].find(text=re.compile('Immobilientyp:')).strip().replace('\\n', '').lstrip('Immobilientyp:').lstrip()"
   ]
  },
  {
   "cell_type": "code",
   "execution_count": 12,
   "id": "b9802b68",
   "metadata": {},
   "outputs": [],
   "source": [
    "#Relative link\n",
    "relative_url = results[0].find('a', {'class': 'js-item-title-link ci-search-result__link'}).get('href')"
   ]
  },
  {
   "cell_type": "code",
   "execution_count": 13,
   "id": "aadba8c6",
   "metadata": {},
   "outputs": [],
   "source": [
    "root_url = 'https://www.immobilo.de'\n",
    "combine_url = root_url + relative_url"
   ]
  },
  {
   "cell_type": "code",
   "execution_count": 14,
   "id": "9679a2f4",
   "metadata": {},
   "outputs": [],
   "source": [
    "# Iteration through multiple pages\n",
    "\n",
    "title_list = []\n",
    "location_list = []\n",
    "room_list = []\n",
    "area_list = []\n",
    "price_list = []\n",
    "price_type_list = []\n",
    "apartment_type_list = []\n",
    "relative_link_list = []\n",
    "\n",
    "for i in range(1, 216):\n",
    "    \n",
    "    website = 'https://www.immobilo.de/mieten/hamburg?page=' + str(i)\n",
    "    \n",
    "    response = requests.get(website)\n",
    "    \n",
    "    soup = BeautifulSoup(response.content, 'html.parser')\n",
    "    \n",
    "    results = soup.find_all('div', {'class': 'item__main-info clearfix'})\n",
    "\n",
    "    \n",
    "    #Loop through results\n",
    "    for result in results:\n",
    "\n",
    "        #Title\n",
    "        try:\n",
    "            title_list.append(result.find('a', {'class': 'js-item-title-link ci-search-result__link'}).get_text().strip())\n",
    "        except:\n",
    "            title_list.append('')\n",
    "\n",
    "        #Location\n",
    "        try:\n",
    "            location_list.append(result.find('div', {'class': 'item__locality'}).get_text().strip())\n",
    "        except:\n",
    "            location_list.append('')\n",
    "\n",
    "        #Rooms\n",
    "        try:\n",
    "            room_list.append(result.find('div', {'class': 'item__spec item-spec-rooms'}).get_text().rstrip(' Zi.'))\n",
    "        except:\n",
    "            room_list.append('')\n",
    "\n",
    "        #Area\n",
    "        try:\n",
    "            area_list.append(result.find('div', {'class': 'item__spec item-spec-area'}).get_text().strip().replace('\\n', '').rstrip(' m2'))\n",
    "        except:\n",
    "            area_list.append('')\n",
    "\n",
    "         #Price\n",
    "        try:\n",
    "            price_list.append(result.find('div', {'class': 'item__spec item-spec-price'}).get_text().replace('\\xa0', '').rstrip(' €').replace('.', '').replace(',', '.'))\n",
    "        except:\n",
    "            price_list.append('')\n",
    "\n",
    "        #Type of price\n",
    "        try:\n",
    "            price_type_list.append(result.find('div', {'class': 'small text-muted item-spec-price-type'}).get_text().strip())\n",
    "        except:\n",
    "            price_type_list.append('')\n",
    "\n",
    "        #Type of apartment\n",
    "        try:\n",
    "            apartment_type_list.append(result.find(text=re.compile('Immobilientyp:')).strip().replace('\\n', '').lstrip('Immobilientyp:').lstrip())\n",
    "        except:\n",
    "            apartment_type_list.append('')\n",
    "\n",
    "        #Relative link\n",
    "        try:\n",
    "            relative_link_list.append(result.find('a', {'class': 'js-item-title-link ci-search-result__link'}).get('href'))\n",
    "        except:\n",
    "            relative_link_list.append('')"
   ]
  },
  {
   "cell_type": "code",
   "execution_count": 15,
   "id": "e36a8615",
   "metadata": {},
   "outputs": [],
   "source": [
    "url_list = []\n",
    "\n",
    "for link in relative_link_list:\n",
    "    url_list.append(urllib.parse.urljoin(root_url, link))"
   ]
  },
  {
   "cell_type": "code",
   "execution_count": 16,
   "id": "c0f87a78",
   "metadata": {},
   "outputs": [],
   "source": [
    "df = pd.DataFrame({'Title': title_list, 'Location': location_list, 'Rooms': room_list, 'Area': area_list, \n",
    "                  'Price': price_list, 'Price_type': price_type_list, 'Apartment_type': apartment_type_list, 'Link': url_list})"
   ]
  },
  {
   "cell_type": "code",
   "execution_count": 17,
   "id": "8545b6d2",
   "metadata": {},
   "outputs": [],
   "source": [
    "df.to_excel('Apartment_Hamburg.xlsx', index=False)"
   ]
  },
  {
   "cell_type": "code",
   "execution_count": null,
   "id": "188f3201",
   "metadata": {},
   "outputs": [],
   "source": []
  }
 ],
 "metadata": {
  "kernelspec": {
   "display_name": "Python 3 (ipykernel)",
   "language": "python",
   "name": "python3"
  },
  "language_info": {
   "codemirror_mode": {
    "name": "ipython",
    "version": 3
   },
   "file_extension": ".py",
   "mimetype": "text/x-python",
   "name": "python",
   "nbconvert_exporter": "python",
   "pygments_lexer": "ipython3",
   "version": "3.9.12"
  }
 },
 "nbformat": 4,
 "nbformat_minor": 5
}
